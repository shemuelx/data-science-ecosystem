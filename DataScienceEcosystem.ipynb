{
  "cells": [
    {
      "cell_type": "markdown",
      "metadata": {
        "id": "fYdtHrR_I25M"
      },
      "source": [
        "<center>\n",
        "    <img src=\"https://cf-courses-data.s3.us.cloud-object-storage.appdomain.cloud/IBMDeveloperSkillsNetwork-DS0105EN-SkillsNetwork/labs/Module2/images/SN_web_lightmode.png\" width=\"300\" alt=\"cognitiveclass.ai logo\">\n",
        "</center>\n"
      ]
    },
    {
      "cell_type": "markdown",
      "metadata": {
        "id": "qd6JQ8CqI25X"
      },
      "source": [
        "#### Add your code below following the instructions given in the course\n"
      ]
    },
    {
      "cell_type": "markdown",
      "metadata": {
        "id": "KQ5Ku1LWI25a"
      },
      "source": [
        "# Data Science Tools and Ecosystem"
      ]
    },
    {
      "cell_type": "markdown",
      "metadata": {
        "id": "2SGMx3FgI25e"
      },
      "source": [
        "In this notebook, Data Science Tools and Ecosystem are summarized."
      ]
    },
    {
      "cell_type": "markdown",
      "metadata": {
        "id": "4L8f-AYgI25h"
      },
      "source": [
        "**Objectives**\n",
        "\n",
        "- List popular languages for Data Science\n",
        "- Known common libraries\n",
        "- How to evaluate code in Jupyter Notebooks"
      ]
    },
    {
      "cell_type": "markdown",
      "metadata": {
        "id": "1LCGUXoBI25j"
      },
      "source": [
        "Some of the popular languages that Data Scientists use are:\n",
        "\n",
        "1. SQL\n",
        "2. Python\n",
        "3. R\n",
        "4. Julia"
      ]
    },
    {
      "cell_type": "markdown",
      "metadata": {
        "id": "8cFf9vrsI25l"
      },
      "source": [
        "Some of the commonly used libraries used by Data Scientists include:\n",
        "\n",
        "1. NumPy\n",
        "2. Scikit-learn\n",
        "3. Pandas\n",
        "4. TensorFlow"
      ]
    },
    {
      "cell_type": "markdown",
      "metadata": {
        "id": "kspBYVb1I25m"
      },
      "source": [
        "| Data Science Tools |\n",
        "| ------------------ |\n",
        "| Keras              |\n",
        "| Matplotlib         |\n",
        "| Apache Hadoop      |\n",
        "| Git                |"
      ]
    },
    {
      "cell_type": "markdown",
      "metadata": {
        "id": "zrpcTQlwI25p"
      },
      "source": [
        "### Below are a few examples of evaluating arithmetic expressions in Python."
      ]
    },
    {
      "cell_type": "code",
      "execution_count": null,
      "metadata": {
        "id": "YCsBM-pbI25s",
        "outputId": "7b283333-54ea-41fb-b2b4-eac89d38ee9d"
      },
      "outputs": [
        {
          "data": {
            "text/plain": [
              "17"
            ]
          },
          "execution_count": 4,
          "metadata": {},
          "output_type": "execute_result"
        }
      ],
      "source": [
        "# Simple arithmetic expression to multiply then add integers\n",
        "(3 * 4) + 5"
      ]
    },
    {
      "cell_type": "code",
      "execution_count": null,
      "metadata": {
        "id": "7NZzI_L4I25x",
        "outputId": "a7ec0ecd-0b86-49b3-fa6f-9b4c174c3f01"
      },
      "outputs": [
        {
          "name": "stdout",
          "output_type": "stream",
          "text": [
            "3\n"
          ]
        }
      ],
      "source": [
        "# This will convert 200 minutes to hours by diving by 60\n",
        "minutes = 200\n",
        "hours = minutes // 60\n",
        "\n",
        "print(hours)"
      ]
    },
    {
      "cell_type": "markdown",
      "metadata": {
        "id": "9EvEbNX_I251"
      },
      "source": [
        "## Author\n",
        "\n",
        "Samuel Felipe Mosquera Erazo"
      ]
    }
  ],
  "metadata": {
    "kernelspec": {
      "display_name": "Python 3 (ipykernel)",
      "language": "python",
      "name": "python3"
    },
    "language_info": {
      "codemirror_mode": {
        "name": "ipython",
        "version": 3
      },
      "file_extension": ".py",
      "mimetype": "text/x-python",
      "name": "python",
      "nbconvert_exporter": "python",
      "pygments_lexer": "ipython3",
      "version": "3.11.9"
    },
    "colab": {
      "provenance": []
    }
  },
  "nbformat": 4,
  "nbformat_minor": 0
}